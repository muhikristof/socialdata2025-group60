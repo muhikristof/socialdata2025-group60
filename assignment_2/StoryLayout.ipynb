{
 "cells": [
  {
   "cell_type": "markdown",
   "metadata": {},
   "source": [
    "# If my car is stolen in San Francisco, where should I look for it?\n",
    "### A look into crime statistics in Vehicle Theft from San Francisco - Bence Gattyan, Muhi Kristof, Silva Oliveira\n",
    "\n",
    "Having your vehicle stolen can be devistating and you may feel at a loss and have no idea where to look for it.\n",
    "Luckily there some patterns can be seen on what might happen to it that could help you and the police find it.\n",
    "\n",
    "We are using data provided by the San Francisco Police department available at https://datasf.org/opendata/\n",
    "On the websites you can find two datasets, one spanning the years 2003-2018 and one from 2018-present.\n",
    "\n",
    "In these information about crimes committed is available, such as the time and date they occured, the location and police district, type of crime and an incident ID.\n",
    "\n",
    "Incident ID's are used for submitting reports of crimes that have a connection to eachother, for example, if someone breaks into a house and steals something they get two reports submitted in the dataset, one about the breaking in and one about the theft itself.\n",
    "Another way Incident ID can connect reports is by linking them two from different time and place to the same crime, for example a car being stolen and later being found elsewhere.\n",
    "\n",
    "In this data story, we were interested in looking into what patterns emerge when we focus on reports relating to cars being stolen and found elsewhere later.\n",
    "\n",
    "## Mapping where a stolen car ends up when it gets stolen from a given district\n",
    "\n",
    "San Francisco is broken up into 10 police districts governing how police officers get deployed and from what police center.\n",
    "\n",
    "Below you can see a heatmap visualizing where stolen cars end up depending on the location they were stolen from:\n",
    "\n",
    "(insert heatmaps here)\n",
    "\n",
    "The police district is enclosed by a blue line and the amount of cars is illustrated by colour, increasing from the minimum blue->green->yellow->red to the maximum.\n",
    "\n",
    "From this we can find two patterns.\n",
    "\n",
    "1. Stolen cars are more often found near their original location of theft rather then far away.\n",
    "2. Cars are more likely to be found on the east side of the city and the city center.\n",
    "\n",
    "A possible explanation to this could be that the cars that have been found were only stolen for short term use and not for resale or salvaging for parts.\n",
    "The eastern side of the city and especially downtown are more scenic that the west which may lead to joyriders travelling there and leaving the vehicle there.\n",
    "San Francisco also automatic license plate reader cameras installed which make it hard to stay undetected in a stolen vehicle for long potentially leading to car thiefs preferring to not drive very far.\n",
    "\n"
   ]
  },
  {
   "cell_type": "markdown",
   "metadata": {},
   "source": []
  }
 ],
 "metadata": {
  "language_info": {
   "name": "python"
  }
 },
 "nbformat": 4,
 "nbformat_minor": 2
}
