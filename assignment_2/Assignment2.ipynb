{
 "cells": [
  {
   "cell_type": "markdown",
   "metadata": {},
   "source": [
    "# Assignment 2\n",
    "\n",
    "## Formalia:\n",
    "\n",
    "Please read the [assignment overview page](https://github.com/suneman/socialdata2025/wiki/Assignments) carefully before proceeding. This page contains information about formatting (including formats etc.), group sizes, and many other aspects of handing in the assignment. \n",
    "\n",
    "_If you fail to follow these simple instructions, it will negatively impact your grade!_\n",
    "\n",
    "**Due date and time**: \n",
    " - The assignment is due on Monday March 31st, 2025 at 23:55. \n",
    " - Hand via DTU Learn. \n",
    " - You should simply hand in the link to the github page with your short data story."
   ]
  },
  {
   "cell_type": "markdown",
   "metadata": {},
   "source": [
    "## A2: A short data story\n",
    "\n",
    "This assignment is to create a short data-story based on the work we've done in class so far. See **Exercises Week 8, Part 2** for full details on how the story should be constructed."
   ]
  },
  {
   "cell_type": "code",
   "execution_count": 1,
   "metadata": {},
   "outputs": [
    {
     "name": "stderr",
     "output_type": "stream",
     "text": [
      "C:\\Users\\User\\AppData\\Local\\Temp\\ipykernel_15200\\988905376.py:10: DtypeWarning: Columns (3) have mixed types. Specify dtype option on import or set low_memory=False.\n",
      "  df = pd.read_csv('PDReports_2003_2024.csv')  # Assuming the data is in a CSV file\n"
     ]
    }
   ],
   "source": [
    "# This code gets multiple reports of the same incident number\n",
    "# and creates a new dataframe with same column scheme for the excepton of storing the data in a list with each new report sharing the same ID \n",
    "# It also filters the dataframe to only include rows with 'Categories' containing ['Vehicle Theft', 'Vehicle Related'] that is, cases where a vehicle has been stolen and then found later\n",
    "\n",
    "import numpy as np\n",
    "import matplotlib.pyplot as plt\n",
    "import pandas as pd\n",
    "\n",
    "#load the data\n",
    "df = pd.read_csv('PDReports_2003_2024.csv')  # Assuming the data is in a CSV file\n",
    "\n",
    "# filter data to only include rows with non-unique values in 'Incident Number'\n",
    "df = df[df.duplicated('Incident Number', keep=False)]\n",
    "\n",
    "# remove ones with the same Time ie. has same incident number bcuz officer filed multiple reports\n",
    "df = df[~df.duplicated(subset=['Incident Number', 'Time'], keep=False)]\n",
    "\n",
    "# now remove non unique ones\n",
    "df = df[df.duplicated('Incident Number', keep=False)]\n",
    "\n",
    "# remove ones with the same Time ie. has same incident number bcuz officer filed multiple reports\n",
    "df = df[~df.duplicated(subset=['Incident Number', 'Longitude', 'Latitude'], keep=False)]\n",
    "\n",
    "# now remove non unique ones\n",
    "df = df[df.duplicated('Incident Number', keep=False)]\n",
    "\n",
    "# list of unique crime types and their counts\n",
    "# counts = df['Category'].value_counts()\n",
    "\n",
    "# sort the dataset by 'Date' and 'Time'\n",
    "df['Date'] = pd.to_datetime(df['Date'], format='%Y-%m-%d').dt.date\n",
    "df['Time'] = pd.to_datetime(df['Time'], format='%H:%M').dt.time\n",
    "df = df.sort_values(by=['Date', 'Time'])\n",
    "df['Date'] = df['Date'].astype(str)\n",
    "df['Time'] = df['Time'].astype(str)\n",
    "\n",
    "# list of unique crime types and their counts\n",
    "# counts = df['Category'].value_counts()\n",
    "\n",
    "# apply the following to the dataframe\n",
    "# 1. get all unique 'Incident Number' values\n",
    "# 2. for each unique value, get a list of all entries with that value in 'Incident Number'\n",
    "# 3. have column for incident number, list of dates and times, locations (lat, long), incident category\n",
    "# 4. create a new dataframe with the above columns\n",
    "unique_incidents = df['Incident Number'].unique()\n",
    "incident_data = []\n",
    "\n",
    "for incident in unique_incidents:\n",
    "    incident_entries = df[df['Incident Number'] == incident]\n",
    "    dates = incident_entries['Date'].tolist()\n",
    "    times = incident_entries['Time'].tolist()\n",
    "    longitudes = incident_entries['Longitude'].tolist()\n",
    "    latitudes = incident_entries['Latitude'].tolist()\n",
    "    categories = incident_entries['Category'].tolist()\n",
    "    descriptions = incident_entries['Description'].tolist()\n",
    "    disctricts = incident_entries['District'].tolist()\n",
    "    dayOfWeeks = incident_entries['DayOfWeek'].tolist()\n",
    "    \n",
    "    # Append the data for this incident to the list\n",
    "    incident_data.append({\n",
    "        'Incident Number': incident,\n",
    "        'Dates': dates,\n",
    "        'Times': times,\n",
    "        'DayOfWeeks': dayOfWeeks,\n",
    "        'Categories': categories,\n",
    "        'Descriptions': descriptions,\n",
    "        'Longitudes': longitudes,\n",
    "        'Latitudes': latitudes,\n",
    "        'Districts': disctricts\n",
    "    })\n",
    "\n",
    "incident_data = pd.DataFrame(incident_data)\n",
    "\n",
    "# incident_data['Categories'].value_counts()\n",
    "\n",
    "# filter the dataframe to only include rows with 'Categories' containing 'Vehicle Theft' in first position and 'Vehicle Related' in second position\n",
    "carJobs = incident_data[incident_data['Categories'].apply(lambda x: 'Vehicle Theft' == x[0] and 'Vehicle Related' == x[1])]\n",
    "\n",
    "carJobs = carJobs[carJobs['Longitudes'].apply(lambda x: not (np.isnan(x[0]) or np.isnan(x[1])))]  "
   ]
  },
  {
   "cell_type": "code",
   "execution_count": 2,
   "metadata": {},
   "outputs": [
    {
     "data": {
      "text/plain": [
       "Incident Number                                         60093142\n",
       "Dates                                   [2006-01-24, 2006-01-27]\n",
       "Times                                       [19:00:00, 01:56:00]\n",
       "DayOfWeeks                                     [Tuesday, Friday]\n",
       "Categories                      [Vehicle Theft, Vehicle Related]\n",
       "Descriptions       [STOLEN AUTOMOBILE, VEHICLE, RECOVERED, AUTO]\n",
       "Longitudes                 [-122.43120636226, -122.411339562557]\n",
       "Latitudes                   [37.7883159249075, 37.7812707434494]\n",
       "Districts                                   [NORTHERN, SOUTHERN]\n",
       "Name: 3, dtype: object"
      ]
     },
     "execution_count": 2,
     "metadata": {},
     "output_type": "execute_result"
    }
   ],
   "source": [
    "\n",
    "carJobs.iloc[0]"
   ]
  }
 ],
 "metadata": {
  "kernelspec": {
   "display_name": "base",
   "language": "python",
   "name": "python3"
  },
  "language_info": {
   "codemirror_mode": {
    "name": "ipython",
    "version": 3
   },
   "file_extension": ".py",
   "mimetype": "text/x-python",
   "name": "python",
   "nbconvert_exporter": "python",
   "pygments_lexer": "ipython3",
   "version": "3.8.3"
  }
 },
 "nbformat": 4,
 "nbformat_minor": 4
}
