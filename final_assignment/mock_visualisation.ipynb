{
 "cells": [
  {
   "cell_type": "markdown",
   "id": "67b818a9",
   "metadata": {},
   "source": [
    "# Imports"
   ]
  },
  {
   "cell_type": "code",
   "execution_count": null,
   "id": "830fdc5a",
   "metadata": {},
   "outputs": [],
   "source": [
    "import calmap\n",
    "import folium\n",
    "import matplotlib.pyplot as plt\n",
    "import pandas as pd\n",
    "import seaborn as sns\n",
    "from pyproj import Transformer"
   ]
  },
  {
   "cell_type": "markdown",
   "id": "637b0bd8",
   "metadata": {},
   "source": [
    "# Load and clean data"
   ]
  },
  {
   "cell_type": "code",
   "execution_count": null,
   "id": "2a7e4f40",
   "metadata": {},
   "outputs": [],
   "source": [
    "df = pd.read_csv(\"traffic_data.csv\", sep=\";\", encoding=\"utf-8\")\n",
    "\n",
    "# Convert date to datetime\n",
    "df[\"date\"] = pd.to_datetime(df[\"date\"], format=\"%d.%m.%Y\")\n",
    "\n",
    "# Clean hourly columns\n",
    "hour_cols = [f\"{i:02d}_{i+1:02d}\" for i in range(24)]\n",
    "df[hour_cols] = df[hour_cols].replace(\" \", \"\", regex=True).apply(pd.to_numeric, errors='coerce')"
   ]
  },
  {
   "cell_type": "markdown",
   "id": "ff760af4",
   "metadata": {},
   "source": [
    "## Data overview"
   ]
  },
  {
   "cell_type": "code",
   "execution_count": null,
   "id": "41ee82ed",
   "metadata": {},
   "outputs": [],
   "source": [
    "mem_mb = df.memory_usage(deep=True).sum() / 1024 ** 2\n",
    "print(f\"📦 Total data size: {mem_mb:.2f} MB\")\n",
    "print(f\"🔢 Rows: {df.shape[0]}, Columns: {df.shape[1]}\")\n",
    "\n",
    "df[\"date\"] = pd.to_datetime(df[\"date\"], format=\"%d.%m.%Y\", errors=\"coerce\")\n",
    "print(f\"📅 Date range: {df['date'].min().date()} → {df['date'].max().date()}\")\n",
    "print(\"\\n🧾 Columns:\\n\", df.columns.tolist())\n",
    "\n",
    "# Check for missing values\n",
    "print(\"\\n❓ Missing values:\\n\", df.isna().sum())\n",
    "\n",
    "hour_cols = [f\"{i:02d}_{i+1:02d}\" for i in range(24)]\n",
    "df[hour_cols] = df[hour_cols].replace(\" \", \"\", regex=True).apply(pd.to_numeric, errors=\"coerce\")\n",
    "df[\"daily_total\"] = df[hour_cols].sum(axis=1)\n",
    "\n",
    "plt.figure(figsize=(8, 4))\n",
    "sns.histplot(df[\"daily_total\"].dropna(), bins=50, kde=True)\n",
    "plt.title(\"📈 Distribution of Daily Total Traffic\")\n",
    "plt.xlabel(\"Total Vehicles per Day\")\n",
    "plt.tight_layout()\n",
    "plt.show()\n",
    "\n",
    "hourly_means = df[hour_cols].mean()\n",
    "\n",
    "plt.figure(figsize=(10, 4))\n",
    "sns.lineplot(x=range(24), y=hourly_means)\n",
    "plt.xticks(range(24), [f\"{i:02d}:00\" for i in range(24)], rotation=45)\n",
    "plt.title(\"🕒 Average Traffic by Hour\")\n",
    "plt.ylabel(\"Average Vehicles\")\n",
    "plt.xlabel(\"Hour of Day\")\n",
    "plt.tight_layout()\n",
    "plt.show()"
   ]
  },
  {
   "cell_type": "markdown",
   "id": "fee2f74a",
   "metadata": {},
   "source": [
    "# Mocks"
   ]
  },
  {
   "cell_type": "markdown",
   "id": "abe78cbb",
   "metadata": {},
   "source": [
    "## Daily traffic profiles"
   ]
  },
  {
   "cell_type": "code",
   "execution_count": null,
   "id": "7d2b8fb0",
   "metadata": {},
   "outputs": [],
   "source": [
    "selected_dates = df[\"date\"].unique()[:3]  # First 3 dates\n",
    "fig, ax = plt.subplots(figsize=(10, 6))\n",
    "\n",
    "for day in selected_dates:\n",
    "    day_data = df[df[\"date\"] == day][hour_cols].sum()\n",
    "    ax.plot(range(24), day_data, label=day.strftime(\"%Y-%m-%d\"))\n",
    "\n",
    "ax.set_xticks(range(24))\n",
    "ax.set_xticklabels([f\"{i:02d}:00\" for i in range(24)], rotation=45)\n",
    "ax.set_ylabel(\"Traffic count\")\n",
    "ax.set_title(\"Daily Traffic Profiles\")\n",
    "ax.legend()\n",
    "plt.tight_layout()\n",
    "plt.show()"
   ]
  },
  {
   "cell_type": "markdown",
   "id": "8acb2f01",
   "metadata": {},
   "source": [
    "## Rolling weekly trends of daily traffic"
   ]
  },
  {
   "cell_type": "code",
   "execution_count": null,
   "id": "4e834060",
   "metadata": {},
   "outputs": [],
   "source": [
    "df[\"daily_total\"] = df[hour_cols].sum(axis=1)\n",
    "daily_traffic = df.groupby(\"date\")[\"daily_total\"].sum().sort_index()\n",
    "rolling = daily_traffic.rolling(7).mean()\n",
    "\n",
    "fig, ax = plt.subplots(figsize=(12, 6))\n",
    "daily_traffic.plot(ax=ax, label=\"Daily Total\", alpha=0.5)\n",
    "rolling.plot(ax=ax, label=\"7-Day Rolling Average\", linewidth=2)\n",
    "ax.set_title(\"Rolling Weekly Trends of Daily Traffic\")\n",
    "ax.set_ylabel(\"Total Vehicles\")\n",
    "ax.legend()\n",
    "plt.tight_layout()\n",
    "plt.show()"
   ]
  },
  {
   "cell_type": "markdown",
   "id": "2d413ab3",
   "metadata": {},
   "source": [
    "## Calendar heatmap of daily traffic"
   ]
  },
  {
   "cell_type": "code",
   "execution_count": null,
   "id": "8d6b5e2f",
   "metadata": {},
   "outputs": [],
   "source": [
    "plt.figure(figsize=(12, 6))\n",
    "calmap.calendarplot(daily_traffic, how='sum', cmap='YlOrRd', fillcolor='lightgrey', linewidth=0.5)\n",
    "plt.suptitle(\"Calendar Heatmap of Daily Traffic\", fontsize=16)\n",
    "plt.tight_layout()\n",
    "plt.show()"
   ]
  },
  {
   "cell_type": "markdown",
   "id": "82728b7a",
   "metadata": {},
   "source": [
    "## Copenhagen traffic map"
   ]
  },
  {
   "cell_type": "code",
   "execution_count": null,
   "id": "c7ee8596",
   "metadata": {},
   "outputs": [],
   "source": [
    "df[\"avg_daily_traffic\"] = df[hour_cols].sum(axis=1)\n",
    "location_agg = df.groupby([\"x_coord\", \"y_coord\"]).agg({\n",
    "    \"avg_daily_traffic\": \"mean\",\n",
    "    \"street_name\": \"first\"\n",
    "}).reset_index()\n",
    "\n",
    "transformer = Transformer.from_crs(\"epsg:25832\", \"epsg:4326\", always_xy=True)  # UTM zone 32N -> WGS84\n",
    "location_agg[\"lon\"], location_agg[\"lat\"] = transformer.transform(\n",
    "    location_agg[\"x_coord\"].values,\n",
    "    location_agg[\"y_coord\"].values\n",
    ")\n",
    "\n",
    "m = folium.Map(location=[55.6761, 12.5683], zoom_start=12)  # Centered on Copenhagen\n",
    "\n",
    "# Add points\n",
    "for _, row in location_agg.iterrows():\n",
    "    folium.CircleMarker(\n",
    "        location=(row[\"lat\"], row[\"lon\"]),\n",
    "        radius=max(row[\"avg_daily_traffic\"] / 500, 3),  # scale radius\n",
    "        color=\"blue\",\n",
    "        fill=True,\n",
    "        fill_opacity=0.6,\n",
    "        popup=f\"{row['street_name']}: {int(row['avg_daily_traffic'])} vehicles/day\"\n",
    "    ).add_to(m)\n",
    "\n",
    "# Save to HTML\n",
    "m.save(\"copenhagen_traffic_map.html\")\n",
    "print(\"✅ Map saved to 'copenhagen_traffic_map.html'\")"
   ]
  }
 ],
 "metadata": {
  "kernelspec": {
   "display_name": ".venv",
   "language": "python",
   "name": "python3"
  },
  "language_info": {
   "codemirror_mode": {
    "name": "ipython",
    "version": 3
   },
   "file_extension": ".py",
   "mimetype": "text/x-python",
   "name": "python",
   "nbconvert_exporter": "python",
   "pygments_lexer": "ipython3",
   "version": "3.13.2"
  }
 },
 "nbformat": 4,
 "nbformat_minor": 5
}
